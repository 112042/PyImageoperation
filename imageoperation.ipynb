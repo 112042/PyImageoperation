{
 "cells": [
  {
   "cell_type": "code",
   "execution_count": 1,
   "id": "b0b2fb21",
   "metadata": {},
   "outputs": [],
   "source": [
    "from PIL import Image"
   ]
  },
  {
   "cell_type": "code",
   "execution_count": 2,
   "id": "f4f63206",
   "metadata": {},
   "outputs": [],
   "source": [
    "pict=Image.open(\"rushmore.jpg\")  #建立Pillow物件"
   ]
  },
  {
   "cell_type": "code",
   "execution_count": 3,
   "id": "1b832f81",
   "metadata": {},
   "outputs": [],
   "source": [
    "width,height=pict.size"
   ]
  },
  {
   "cell_type": "code",
   "execution_count": 4,
   "id": "9e2af445",
   "metadata": {},
   "outputs": [],
   "source": [
    "newPict1=pict.resize((width*2,height))   #寬度是2倍"
   ]
  },
  {
   "cell_type": "code",
   "execution_count": 5,
   "id": "88952a17",
   "metadata": {},
   "outputs": [],
   "source": [
    "newPict1.save(\"out17_9_1.jpg\")"
   ]
  },
  {
   "cell_type": "code",
   "execution_count": 6,
   "id": "2ebf5f0c",
   "metadata": {},
   "outputs": [],
   "source": [
    "newPict2=pict.resize((width,height*2))   #高度是2倍"
   ]
  },
  {
   "cell_type": "code",
   "execution_count": 7,
   "id": "35bcc812",
   "metadata": {},
   "outputs": [],
   "source": [
    "newPict2.save(\"out17_9_2.jpg\")"
   ]
  },
  {
   "cell_type": "code",
   "execution_count": 8,
   "id": "55325bca",
   "metadata": {},
   "outputs": [],
   "source": [
    "pict.rotate(90).save(\"out17_10_1.jpg\")  #旋轉90度"
   ]
  },
  {
   "cell_type": "code",
   "execution_count": 9,
   "id": "50b5948e",
   "metadata": {},
   "outputs": [],
   "source": [
    "pict.rotate(180).save(\"out17_10_2.jpg\")  #旋轉180度"
   ]
  },
  {
   "cell_type": "code",
   "execution_count": 10,
   "id": "824d2e06",
   "metadata": {},
   "outputs": [],
   "source": [
    "pict.rotate(270).save(\"out17_10_3.jpg\")  #旋轉270度"
   ]
  },
  {
   "cell_type": "code",
   "execution_count": 11,
   "id": "f67c35dd",
   "metadata": {},
   "outputs": [],
   "source": [
    "pict.rotate(45).save(\"out17_11_1.jpg\")   #旋轉45度"
   ]
  },
  {
   "cell_type": "code",
   "execution_count": 12,
   "id": "e599cd8d",
   "metadata": {},
   "outputs": [],
   "source": [
    "pict.rotate(45,expand=True).save(\"out17_11_2.jpg\")   #旋轉45度圖像擴充"
   ]
  },
  {
   "cell_type": "code",
   "execution_count": 13,
   "id": "b85f941b",
   "metadata": {},
   "outputs": [],
   "source": [
    "pict.transpose(Image.FLIP_LEFT_RIGHT).save(\"out17_12_1.jpg\") #左右翻轉"
   ]
  },
  {
   "cell_type": "code",
   "execution_count": 14,
   "id": "bc1ace13",
   "metadata": {},
   "outputs": [],
   "source": [
    "pict.transpose(Image.FLIP_TOP_BOTTOM).save(\"out17_12_2.jpg\") #上下翻轉"
   ]
  },
  {
   "cell_type": "code",
   "execution_count": 15,
   "id": "fc95af99",
   "metadata": {},
   "outputs": [],
   "source": [
    "newImage=Image.new('RGBA',(300,100),\"Yellow\")"
   ]
  },
  {
   "cell_type": "code",
   "execution_count": 16,
   "id": "618ad7f3",
   "metadata": {},
   "outputs": [
    {
     "name": "stdout",
     "output_type": "stream",
     "text": [
      "(255, 255, 0, 255)\n"
     ]
    }
   ],
   "source": [
    "print(newImage.getpixel((150,50)))  #列印中心點的色彩"
   ]
  },
  {
   "cell_type": "code",
   "execution_count": 17,
   "id": "29d17f5c",
   "metadata": {},
   "outputs": [],
   "source": [
    "newImage.save(\"out17_13.png\")"
   ]
  },
  {
   "cell_type": "code",
   "execution_count": 22,
   "id": "116f21e9",
   "metadata": {},
   "outputs": [],
   "source": [
    "from PIL import Image\n",
    "from PIL import ImageColor"
   ]
  },
  {
   "cell_type": "code",
   "execution_count": 23,
   "id": "e8c62488",
   "metadata": {},
   "outputs": [],
   "source": [
    "newImage=Image.new('RGBA',(300,300),\"Yellow\")"
   ]
  },
  {
   "cell_type": "code",
   "execution_count": 25,
   "id": "0247c400",
   "metadata": {},
   "outputs": [],
   "source": [
    "for x in range(50,251):             #x軸區間在50~250\n",
    "    for y in range(50,151):         #y軸區間在50~150\n",
    "        newImage.putpixel((x,y),(0,255,255,255))  #填青色"
   ]
  },
  {
   "cell_type": "code",
   "execution_count": 26,
   "id": "4e5fefd7",
   "metadata": {},
   "outputs": [],
   "source": [
    "newImage.save(\"out17_14_1.png\") "
   ]
  },
  {
   "cell_type": "code",
   "execution_count": 28,
   "id": "1141c735",
   "metadata": {},
   "outputs": [],
   "source": [
    "for x in range(50,251):             #x軸區間在50~250\n",
    "    for y in range(151,251):         #y軸區間在151~251\n",
    "        newImage.putpixel((x,y),ImageColor.getcolor(\"Blue\",\"RGBA\"))  #填藍色\n",
    "newImage.save(\"out17_14_2.png\")"
   ]
  },
  {
   "cell_type": "code",
   "execution_count": null,
   "id": "483353a7",
   "metadata": {},
   "outputs": [],
   "source": []
  }
 ],
 "metadata": {
  "kernelspec": {
   "display_name": "Python 3 (ipykernel)",
   "language": "python",
   "name": "python3"
  },
  "language_info": {
   "codemirror_mode": {
    "name": "ipython",
    "version": 3
   },
   "file_extension": ".py",
   "mimetype": "text/x-python",
   "name": "python",
   "nbconvert_exporter": "python",
   "pygments_lexer": "ipython3",
   "version": "3.10.0"
  }
 },
 "nbformat": 4,
 "nbformat_minor": 5
}
