{
 "cells": [
  {
   "cell_type": "code",
   "execution_count": 1,
   "id": "6b76e2cc",
   "metadata": {},
   "outputs": [],
   "source": [
    "from PIL import Image\n",
    "from PIL import ImageFilter"
   ]
  },
  {
   "cell_type": "code",
   "execution_count": 2,
   "id": "3f524a16",
   "metadata": {},
   "outputs": [],
   "source": [
    "rushMore=Image.open(\"rushmore.jpg\")  #建立Pillow物件"
   ]
  },
  {
   "cell_type": "code",
   "execution_count": 3,
   "id": "9ac338f5",
   "metadata": {},
   "outputs": [],
   "source": [
    "filterPict=rushMore.filter(ImageFilter.BLUR)  #模糊"
   ]
  },
  {
   "cell_type": "code",
   "execution_count": 4,
   "id": "2debbccc",
   "metadata": {},
   "outputs": [],
   "source": [
    "filterPict.save(\"out17_19_BLUR.jpg\")"
   ]
  },
  {
   "cell_type": "code",
   "execution_count": 5,
   "id": "e2fdea80",
   "metadata": {},
   "outputs": [],
   "source": [
    "filterPict=rushMore.filter(ImageFilter.CONTOUR)  #輪廓"
   ]
  },
  {
   "cell_type": "code",
   "execution_count": 6,
   "id": "22edc3ee",
   "metadata": {},
   "outputs": [],
   "source": [
    "filterPict.save(\"out17_19_CONTOUR.jpg\")"
   ]
  },
  {
   "cell_type": "code",
   "execution_count": 7,
   "id": "2d7136e5",
   "metadata": {},
   "outputs": [],
   "source": [
    "filterPict=rushMore.filter(ImageFilter.EMBOSS)  #浮雕效果"
   ]
  },
  {
   "cell_type": "code",
   "execution_count": 8,
   "id": "4d410599",
   "metadata": {},
   "outputs": [],
   "source": [
    "filterPict.save(\"out17_19_EMBOSS.jpg\")"
   ]
  },
  {
   "cell_type": "code",
   "execution_count": 9,
   "id": "885a1eac",
   "metadata": {},
   "outputs": [],
   "source": [
    "filterPict=rushMore.filter(ImageFilter.FIND_EDGES)  #邊緣訊息"
   ]
  },
  {
   "cell_type": "code",
   "execution_count": 10,
   "id": "f079c4a2",
   "metadata": {},
   "outputs": [],
   "source": [
    "filterPict.save(\"out17_19_FIND_EDGES.jpg\")"
   ]
  },
  {
   "cell_type": "code",
   "execution_count": null,
   "id": "6dc97595",
   "metadata": {},
   "outputs": [],
   "source": []
  }
 ],
 "metadata": {
  "kernelspec": {
   "display_name": "Python 3 (ipykernel)",
   "language": "python",
   "name": "python3"
  },
  "language_info": {
   "codemirror_mode": {
    "name": "ipython",
    "version": 3
   },
   "file_extension": ".py",
   "mimetype": "text/x-python",
   "name": "python",
   "nbconvert_exporter": "python",
   "pygments_lexer": "ipython3",
   "version": "3.10.0"
  }
 },
 "nbformat": 4,
 "nbformat_minor": 5
}
