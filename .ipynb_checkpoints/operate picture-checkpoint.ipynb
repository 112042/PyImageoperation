{
 "cells": [
  {
   "cell_type": "code",
   "execution_count": 1,
   "id": "1d959b7c",
   "metadata": {},
   "outputs": [],
   "source": [
    "from PIL import Image"
   ]
  },
  {
   "cell_type": "code",
   "execution_count": 2,
   "id": "c07326cf",
   "metadata": {},
   "outputs": [],
   "source": [
    "rushMore=Image.open(\"rushmore.jpg\")   #建立Pillow物件"
   ]
  },
  {
   "cell_type": "code",
   "execution_count": 3,
   "id": "b4637c93",
   "metadata": {},
   "outputs": [
    {
     "name": "stdout",
     "output_type": "stream",
     "text": [
      "列出物件型態： <class 'PIL.JpegImagePlugin.JpegImageFile'>\n"
     ]
    }
   ],
   "source": [
    "print(\"列出物件型態：\",type(rushMore))"
   ]
  },
  {
   "cell_type": "code",
   "execution_count": 4,
   "id": "c5486338",
   "metadata": {},
   "outputs": [],
   "source": [
    "width,height=rushMore.size #獲得影像寬度和高度"
   ]
  },
  {
   "cell_type": "code",
   "execution_count": 5,
   "id": "f5378ad4",
   "metadata": {},
   "outputs": [
    {
     "name": "stdout",
     "output_type": "stream",
     "text": [
      "寬度= 1200 <class 'int'>\n"
     ]
    }
   ],
   "source": [
    "print(\"寬度=\",width,type(width))"
   ]
  },
  {
   "cell_type": "code",
   "execution_count": 6,
   "id": "bdca4f36",
   "metadata": {},
   "outputs": [
    {
     "name": "stdout",
     "output_type": "stream",
     "text": [
      "高度= 800 <class 'int'>\n"
     ]
    }
   ],
   "source": [
    "print(\"高度=\",height,type(height))"
   ]
  },
  {
   "cell_type": "code",
   "execution_count": 10,
   "id": "ffa2c802",
   "metadata": {},
   "outputs": [
    {
     "name": "stdout",
     "output_type": "stream",
     "text": [
      "列出物件檔名： rushmore.jpg <class 'str'>\n"
     ]
    }
   ],
   "source": [
    "print(\"列出物件檔名：\",rushMore.filename,type(rushMore.filename))"
   ]
  },
  {
   "cell_type": "code",
   "execution_count": 11,
   "id": "5cb4ab64",
   "metadata": {},
   "outputs": [
    {
     "name": "stdout",
     "output_type": "stream",
     "text": [
      "列出物件副檔名： JPEG <class 'str'>\n"
     ]
    }
   ],
   "source": [
    "print(\"列出物件副檔名：\",rushMore.format,type(rushMore.format))"
   ]
  },
  {
   "cell_type": "code",
   "execution_count": 12,
   "id": "1fd9b529",
   "metadata": {},
   "outputs": [
    {
     "name": "stdout",
     "output_type": "stream",
     "text": [
      "列出物件描述： JPEG (ISO 10918) <class 'str'>\n"
     ]
    }
   ],
   "source": [
    "print(\"列出物件描述：\",rushMore.format_description,type(rushMore.format_description))"
   ]
  },
  {
   "cell_type": "code",
   "execution_count": 13,
   "id": "8be84898",
   "metadata": {},
   "outputs": [],
   "source": [
    "rushMore.save(\"out17_6.png\")   #轉檔並儲存"
   ]
  },
  {
   "cell_type": "code",
   "execution_count": 14,
   "id": "eb5a53e6",
   "metadata": {},
   "outputs": [],
   "source": [
    "rushMore.show()   "
   ]
  },
  {
   "cell_type": "code",
   "execution_count": null,
   "id": "164378fd",
   "metadata": {},
   "outputs": [],
   "source": []
  }
 ],
 "metadata": {
  "kernelspec": {
   "display_name": "Python 3 (ipykernel)",
   "language": "python",
   "name": "python3"
  },
  "language_info": {
   "codemirror_mode": {
    "name": "ipython",
    "version": 3
   },
   "file_extension": ".py",
   "mimetype": "text/x-python",
   "name": "python",
   "nbconvert_exporter": "python",
   "pygments_lexer": "ipython3",
   "version": "3.10.0"
  }
 },
 "nbformat": 4,
 "nbformat_minor": 5
}
