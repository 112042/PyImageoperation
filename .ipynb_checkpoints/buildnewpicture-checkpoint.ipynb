{
 "cells": [
  {
   "cell_type": "code",
   "execution_count": 1,
   "id": "f4efdb24",
   "metadata": {},
   "outputs": [],
   "source": [
    "from PIL import Image"
   ]
  },
  {
   "cell_type": "code",
   "execution_count": 2,
   "id": "2b2d3ae5",
   "metadata": {},
   "outputs": [],
   "source": [
    "pict0bj= Image.new(\"RGB\",(300,180),\"aqua\") #建立aqua顏色影像"
   ]
  },
  {
   "cell_type": "code",
   "execution_count": 3,
   "id": "d9bdb694",
   "metadata": {},
   "outputs": [],
   "source": [
    "pict0bj.save(\"out17_7.jpg\")"
   ]
  },
  {
   "cell_type": "code",
   "execution_count": 4,
   "id": "1b0d0745",
   "metadata": {},
   "outputs": [],
   "source": [
    "pict0bj= Image.new(\"RGB\",(300,180)) #建立完全透明影像"
   ]
  },
  {
   "cell_type": "code",
   "execution_count": 5,
   "id": "e9d8cdb1",
   "metadata": {},
   "outputs": [],
   "source": [
    "pict0bj.save(\"out17_8.jpg\")"
   ]
  },
  {
   "cell_type": "code",
   "execution_count": 6,
   "id": "c5f455a7",
   "metadata": {},
   "outputs": [],
   "source": [
    "pict0bj.save(\"out17_8_1.png\")"
   ]
  },
  {
   "cell_type": "code",
   "execution_count": null,
   "id": "9bf28d3e",
   "metadata": {},
   "outputs": [],
   "source": []
  }
 ],
 "metadata": {
  "kernelspec": {
   "display_name": "Python 3 (ipykernel)",
   "language": "python",
   "name": "python3"
  },
  "language_info": {
   "codemirror_mode": {
    "name": "ipython",
    "version": 3
   },
   "file_extension": ".py",
   "mimetype": "text/x-python",
   "name": "python",
   "nbconvert_exporter": "python",
   "pygments_lexer": "ipython3",
   "version": "3.10.0"
  }
 },
 "nbformat": 4,
 "nbformat_minor": 5
}
