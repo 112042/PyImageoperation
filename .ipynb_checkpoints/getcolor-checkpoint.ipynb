{
 "cells": [
  {
   "cell_type": "code",
   "execution_count": 1,
   "id": "382258ff",
   "metadata": {},
   "outputs": [],
   "source": [
    "from PIL import ImageColor"
   ]
  },
  {
   "cell_type": "code",
   "execution_count": 2,
   "id": "141f5d0f",
   "metadata": {},
   "outputs": [
    {
     "name": "stdout",
     "output_type": "stream",
     "text": [
      "(0, 0, 255)\n"
     ]
    }
   ],
   "source": [
    "print(ImageColor.getcolor(\"#0000ff\",\"RGB\"))"
   ]
  },
  {
   "cell_type": "code",
   "execution_count": 3,
   "id": "fe6c1a78",
   "metadata": {},
   "outputs": [
    {
     "name": "stdout",
     "output_type": "stream",
     "text": [
      "(0, 0, 255)\n"
     ]
    }
   ],
   "source": [
    "print(ImageColor.getcolor(\"rgb(0,0,255)\",\"RGB\"))"
   ]
  },
  {
   "cell_type": "code",
   "execution_count": 4,
   "id": "5f5e7fa8",
   "metadata": {},
   "outputs": [
    {
     "name": "stdout",
     "output_type": "stream",
     "text": [
      "(0, 0, 255)\n"
     ]
    }
   ],
   "source": [
    "print(ImageColor.getcolor(\"Blue\",\"RGB\"))"
   ]
  },
  {
   "cell_type": "code",
   "execution_count": 5,
   "id": "7df16af4",
   "metadata": {},
   "outputs": [
    {
     "name": "stdout",
     "output_type": "stream",
     "text": [
      "(0, 0, 255, 255)\n"
     ]
    }
   ],
   "source": [
    "print(ImageColor.getcolor(\"#0000ff\",\"RGBA\"))"
   ]
  },
  {
   "cell_type": "code",
   "execution_count": 6,
   "id": "61da9aae",
   "metadata": {},
   "outputs": [
    {
     "name": "stdout",
     "output_type": "stream",
     "text": [
      "(0, 0, 255, 255)\n"
     ]
    }
   ],
   "source": [
    "print(ImageColor.getcolor(\"Blue\",\"RGBA\"))"
   ]
  },
  {
   "cell_type": "code",
   "execution_count": null,
   "id": "74ba8cfb",
   "metadata": {},
   "outputs": [],
   "source": []
  }
 ],
 "metadata": {
  "kernelspec": {
   "display_name": "Python 3 (ipykernel)",
   "language": "python",
   "name": "python3"
  },
  "language_info": {
   "codemirror_mode": {
    "name": "ipython",
    "version": 3
   },
   "file_extension": ".py",
   "mimetype": "text/x-python",
   "name": "python",
   "nbconvert_exporter": "python",
   "pygments_lexer": "ipython3",
   "version": "3.10.0"
  }
 },
 "nbformat": 4,
 "nbformat_minor": 5
}
