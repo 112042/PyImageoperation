{
 "cells": [
  {
   "cell_type": "code",
   "execution_count": 3,
   "id": "eea33729",
   "metadata": {},
   "outputs": [],
   "source": [
    "#影像內建立圖案\n",
    "from PIL import Image,ImageDraw\n",
    "newImage=Image.new('RGBA',(300,300),\"Yellow\")\n",
    "drawObj=ImageDraw.Draw(newImage)"
   ]
  },
  {
   "cell_type": "code",
   "execution_count": 4,
   "id": "9d39e9fb",
   "metadata": {},
   "outputs": [],
   "source": [
    "#繪製點\n",
    "for x in range(100,200,3):\n",
    "    for y in range(100,200,3):\n",
    "        drawObj.point([(x,y)],fill='Green')"
   ]
  },
  {
   "cell_type": "code",
   "execution_count": 5,
   "id": "7ee12630",
   "metadata": {},
   "outputs": [],
   "source": [
    "#繪製線條，繪外框線\n",
    "drawObj.line([(0,0),(299,0),(299,299),(0,299),(0,0)],fill=\"Black\")"
   ]
  },
  {
   "cell_type": "code",
   "execution_count": 6,
   "id": "fa437700",
   "metadata": {},
   "outputs": [],
   "source": [
    "#繪製右上角美工線\n",
    "for x in range(150,300,10):\n",
    "    drawObj.line([(x,0),(300,x-150)],fill=\"Blue\")"
   ]
  },
  {
   "cell_type": "code",
   "execution_count": 7,
   "id": "e82b61fb",
   "metadata": {},
   "outputs": [],
   "source": [
    "#繪製左下角美工線\n",
    "for y in range(150,300,10):\n",
    "    drawObj.line([(0,y),(y-150,300)],fill=\"Blue\")"
   ]
  },
  {
   "cell_type": "code",
   "execution_count": 8,
   "id": "0b5386ed",
   "metadata": {},
   "outputs": [],
   "source": [
    "newImage.save(\"out17_20.png\")"
   ]
  },
  {
   "cell_type": "code",
   "execution_count": 9,
   "id": "2c56b9ce",
   "metadata": {},
   "outputs": [],
   "source": [
    "drawObj.rectangle((0,0,299,299),outline='Black')  #影像外框線"
   ]
  },
  {
   "cell_type": "code",
   "execution_count": 10,
   "id": "67e355c5",
   "metadata": {},
   "outputs": [],
   "source": [
    "drawObj.ellipse((30,60,130,100),outline='Black')  #左眼外框"
   ]
  },
  {
   "cell_type": "code",
   "execution_count": 11,
   "id": "62a3a3a0",
   "metadata": {},
   "outputs": [],
   "source": [
    "drawObj.ellipse((65,65,95,95),outline='Blue')  #左眼"
   ]
  },
  {
   "cell_type": "code",
   "execution_count": 12,
   "id": "01d4c9c9",
   "metadata": {},
   "outputs": [],
   "source": [
    "drawObj.ellipse((170,60,270,100),outline='Black')  #右眼外框"
   ]
  },
  {
   "cell_type": "code",
   "execution_count": 13,
   "id": "a85d7ca5",
   "metadata": {},
   "outputs": [],
   "source": [
    "drawObj.ellipse((205,65,235,95),outline='Blue')  #右眼"
   ]
  },
  {
   "cell_type": "code",
   "execution_count": 15,
   "id": "62ccc962",
   "metadata": {},
   "outputs": [],
   "source": [
    "drawObj.polygon([(150,120),(180,180),(120,180),(150,120)],fill='Aqua')  #鼻子"
   ]
  },
  {
   "cell_type": "code",
   "execution_count": 16,
   "id": "60864325",
   "metadata": {},
   "outputs": [],
   "source": [
    "drawObj.rectangle((100,210,200,240),fill='Red')  #嘴"
   ]
  },
  {
   "cell_type": "code",
   "execution_count": 17,
   "id": "bf3c6502",
   "metadata": {},
   "outputs": [],
   "source": [
    "newImage.save(\"out17_21.png\")"
   ]
  },
  {
   "cell_type": "code",
   "execution_count": null,
   "id": "a9ab707a",
   "metadata": {},
   "outputs": [],
   "source": []
  },
  {
   "cell_type": "code",
   "execution_count": null,
   "id": "929bf0fa",
   "metadata": {},
   "outputs": [],
   "source": []
  },
  {
   "cell_type": "code",
   "execution_count": null,
   "id": "f249ced3",
   "metadata": {},
   "outputs": [],
   "source": []
  }
 ],
 "metadata": {
  "kernelspec": {
   "display_name": "Python 3 (ipykernel)",
   "language": "python",
   "name": "python3"
  },
  "language_info": {
   "codemirror_mode": {
    "name": "ipython",
    "version": 3
   },
   "file_extension": ".py",
   "mimetype": "text/x-python",
   "name": "python",
   "nbconvert_exporter": "python",
   "pygments_lexer": "ipython3",
   "version": "3.10.0"
  }
 },
 "nbformat": 4,
 "nbformat_minor": 5
}
