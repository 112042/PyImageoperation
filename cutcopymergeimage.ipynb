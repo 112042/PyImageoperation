{
 "cells": [
  {
   "cell_type": "code",
   "execution_count": 1,
   "id": "52411183",
   "metadata": {},
   "outputs": [],
   "source": [
    "from PIL import Image"
   ]
  },
  {
   "cell_type": "code",
   "execution_count": 2,
   "id": "1af40f7a",
   "metadata": {},
   "outputs": [],
   "source": [
    "pict=Image.open(\"rushmore.jpg\")   #建立Pillow物件"
   ]
  },
  {
   "cell_type": "code",
   "execution_count": 9,
   "id": "900e0f84",
   "metadata": {},
   "outputs": [],
   "source": [
    "cropPict=pict.crop((80,80,250,250)) #裁切區間"
   ]
  },
  {
   "cell_type": "code",
   "execution_count": 10,
   "id": "3f1cf8cd",
   "metadata": {},
   "outputs": [],
   "source": [
    "cropPict.save(\"out17_15.jpg\")"
   ]
  },
  {
   "cell_type": "code",
   "execution_count": 12,
   "id": "d1a15f0b",
   "metadata": {},
   "outputs": [],
   "source": [
    "copyPict=pict.copy()      #複製"
   ]
  },
  {
   "cell_type": "code",
   "execution_count": 13,
   "id": "2d36f0cd",
   "metadata": {},
   "outputs": [],
   "source": [
    "copyPict.save(\"out17_16.jpg\")  "
   ]
  },
  {
   "cell_type": "code",
   "execution_count": 28,
   "id": "7670caa1",
   "metadata": {},
   "outputs": [],
   "source": [
    "cropPict=copyPict.crop((250,250,350,350)) #裁切區間"
   ]
  },
  {
   "cell_type": "code",
   "execution_count": 29,
   "id": "82df9754",
   "metadata": {},
   "outputs": [],
   "source": [
    "copyPict.paste(cropPict,(20,20))   #第一次合成"
   ]
  },
  {
   "cell_type": "code",
   "execution_count": 30,
   "id": "1b4c9111",
   "metadata": {},
   "outputs": [],
   "source": [
    "copyPict.paste(cropPict,(20,100))   #第二次合成"
   ]
  },
  {
   "cell_type": "code",
   "execution_count": 31,
   "id": "e634c498",
   "metadata": {},
   "outputs": [],
   "source": [
    "copyPict.save(\"out17_17.jpg\")"
   ]
  },
  {
   "cell_type": "code",
   "execution_count": 35,
   "id": "81284366",
   "metadata": {},
   "outputs": [],
   "source": [
    "cropWidth,cropHeight=cropPict.size     #獲得裁切區間的寬與高"
   ]
  },
  {
   "cell_type": "code",
   "execution_count": 36,
   "id": "032b10b4",
   "metadata": {},
   "outputs": [],
   "source": [
    "width,height=600,320    #新影像寬與高"
   ]
  },
  {
   "cell_type": "code",
   "execution_count": 37,
   "id": "e47875ea",
   "metadata": {},
   "outputs": [],
   "source": [
    "newImage=Image.new('RGB',(width,height),\"Yellow\")  #建立新影像"
   ]
  },
  {
   "cell_type": "code",
   "execution_count": 38,
   "id": "099cc646",
   "metadata": {},
   "outputs": [],
   "source": [
    "for x in range(20,width-20,cropWidth):  #雙層迴圈合成\n",
    "    for y in range(20,height-20,cropHeight):\n",
    "        newImage.paste(cropPict,(x,y))   #合成"
   ]
  },
  {
   "cell_type": "code",
   "execution_count": 39,
   "id": "83a75610",
   "metadata": {},
   "outputs": [],
   "source": [
    "newImage.save(\"out17_18.jpg\")"
   ]
  },
  {
   "cell_type": "code",
   "execution_count": null,
   "id": "69b137ee",
   "metadata": {},
   "outputs": [],
   "source": []
  }
 ],
 "metadata": {
  "kernelspec": {
   "display_name": "Python 3 (ipykernel)",
   "language": "python",
   "name": "python3"
  },
  "language_info": {
   "codemirror_mode": {
    "name": "ipython",
    "version": 3
   },
   "file_extension": ".py",
   "mimetype": "text/x-python",
   "name": "python",
   "nbconvert_exporter": "python",
   "pygments_lexer": "ipython3",
   "version": "3.10.0"
  }
 },
 "nbformat": 4,
 "nbformat_minor": 5
}
